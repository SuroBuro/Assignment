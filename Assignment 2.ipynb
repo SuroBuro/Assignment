{
 "cells": [
  {
   "cell_type": "code",
   "execution_count": 8,
   "id": "2ade0e6a-9223-4293-b1d9-a70a6ef43281",
   "metadata": {},
   "outputs": [
    {
     "name": "stdout",
     "output_type": "stream",
     "text": [
      "'\n"
     ]
    }
   ],
   "source": [
    "#How can we store a s1ngle quote (‘) as a str1ng 1n a var1able?\n",
    "\n",
    "string = \"'\"\n",
    "print(string)"
   ]
  },
  {
   "cell_type": "code",
   "execution_count": 12,
   "id": "faed7dcb-a3f7-4dc1-a03b-41d1a4c2cbfe",
   "metadata": {},
   "outputs": [
    {
     "data": {
      "text/plain": [
       "str"
      ]
     },
     "execution_count": 12,
     "metadata": {},
     "output_type": "execute_result"
    }
   ],
   "source": [
    "#Here, 1s x a character type or str1ng type var1able? Support your answer w1th an explanat1on.\n",
    "x = 'a'\n",
    "type(x)\n",
    "\n",
    "#Here the system recognizes the variable as a string rather than a character because of it being in double quotations."
   ]
  },
  {
   "cell_type": "code",
   "execution_count": 31,
   "id": "2cf07361-9d5f-4b96-bbc6-48806bd98912",
   "metadata": {},
   "outputs": [
    {
     "name": "stdout",
     "output_type": "stream",
     "text": [
      "6\n",
      "18\n",
      "35\n"
     ]
    }
   ],
   "source": [
    "a = 'Welcome to Python foundation course'\n",
    "\n",
    "print(a.count(\"o\"))\n",
    "print(a.find(\"f\"))\n",
    "print(len(a))"
   ]
  },
  {
   "cell_type": "code",
   "execution_count": 34,
   "id": "70065234-fa64-41b2-bccd-7ac36e973ba7",
   "metadata": {},
   "outputs": [
    {
     "name": "stdout",
     "output_type": "stream",
     "text": [
      "'Welcome to Python foundation course'\n"
     ]
    }
   ],
   "source": [
    "#Concatenat1on (this is basically known as joining two strings together, had to look it up from the internet)\n",
    "\n",
    "print (string + \"\" + a + string) #I have basically added colons on both sides of the sentence, it is a valid example of concatenation"
   ]
  },
  {
   "cell_type": "raw",
   "id": "cf91b56a-e29f-4714-a856-45599bfc2c21",
   "metadata": {},
   "source": [
    "For the var1able:\n",
    "Calculate the follow1ng:\n",
    "(a) Total number of alphabets 1n lowercase\n",
    "(b) Total number of alphabets 1n uppercase\n",
    "(c) Total number of numer1cal 1n str1ng"
   ]
  },
  {
   "cell_type": "code",
   "execution_count": 41,
   "id": "0d00f703-9074-4d1e-ad19-8ad488e85e68",
   "metadata": {},
   "outputs": [
    {
     "name": "stdout",
     "output_type": "stream",
     "text": [
      "The number of uppercase letters are = 2\n",
      "The number of lowercase letters are = 4\n",
      "The total number of digits are = 5\n"
     ]
    }
   ],
   "source": [
    "word= \"PanaJi@12256\"\n",
    "\n",
    "uppercase = 0\n",
    "lowercase = 0\n",
    "numbers = 0\n",
    "\n",
    "for i in word:\n",
    "    if i.isupper():\n",
    "        uppercase = uppercase + 1\n",
    "    elif i.islower():\n",
    "        lowercase = lowercase + 1\n",
    "    elif i.isdigit():\n",
    "        numbers = numbers + 1\n",
    "\n",
    "print(\"The number of uppercase letters are =\", uppercase)\n",
    "print(\"The number of lowercase letters are =\", lowercase)\n",
    "print(\"The total number of digits are =\", numbers)"
   ]
  },
  {
   "cell_type": "code",
   "execution_count": 44,
   "id": "c1be8d4e-4b57-4efa-8fc9-f5cc8d5a7ba3",
   "metadata": {},
   "outputs": [
    {
     "name": "stdout",
     "output_type": "stream",
     "text": [
      "type of variable before conversion <class 'int'>\n",
      "type of variable after conversion <class 'str'>\n"
     ]
    }
   ],
   "source": [
    "#Wr1te a code to store a numer1cal value inside a variable and then convert it as a string\n",
    "num = 10\n",
    "print(\"type of variable before conversion\" , type(num))\n",
    "converted_num = str(num)\n",
    "print(\"type of variable after conversion\" , type(converted_num))"
   ]
  }
 ],
 "metadata": {
  "kernelspec": {
   "display_name": "Python 3 (ipykernel)",
   "language": "python",
   "name": "python3"
  },
  "language_info": {
   "codemirror_mode": {
    "name": "ipython",
    "version": 3
   },
   "file_extension": ".py",
   "mimetype": "text/x-python",
   "name": "python",
   "nbconvert_exporter": "python",
   "pygments_lexer": "ipython3",
   "version": "3.10.8"
  }
 },
 "nbformat": 4,
 "nbformat_minor": 5
}
