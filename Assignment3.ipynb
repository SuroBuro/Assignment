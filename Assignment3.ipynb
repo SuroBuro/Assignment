{
 "cells": [
  {
   "cell_type": "code",
   "execution_count": 2,
   "id": "ce5f1986-a097-473a-8c49-59552180f82f",
   "metadata": {},
   "outputs": [
    {
     "name": "stdout",
     "output_type": "stream",
     "text": [
      "[]\n"
     ]
    }
   ],
   "source": [
    "#Create an empty list\n",
    "my_list = []\n",
    "print(my_list)"
   ]
  },
  {
   "cell_type": "code",
   "execution_count": 34,
   "id": "61ca912d-2686-40f5-9584-7af15e6f49db",
   "metadata": {},
   "outputs": [
    {
     "name": "stdout",
     "output_type": "stream",
     "text": [
      "[124, 782, 89263, 90293]\n",
      "[124, 782, 89263, 90293, 287]\n"
     ]
    }
   ],
   "source": [
    "#Create a list and add a element to the end of the list\n",
    "list5 = [124 , 782, 89263, 90293 ]\n",
    "print(list5)\n",
    "list5.append(0)\n",
    "list5[4] = 287 \n",
    "print(list5)"
   ]
  },
  {
   "cell_type": "code",
   "execution_count": 40,
   "id": "9b9f7be1-9d1c-45cd-9680-4861ec1a5d74",
   "metadata": {},
   "outputs": [
    {
     "name": "stdout",
     "output_type": "stream",
     "text": [
      "90293\n",
      "[90293, 89263, 782, 287, 124]\n",
      "None\n"
     ]
    }
   ],
   "source": [
    "#for the above created string print the last element\n",
    "print(list5[4])\n",
    "#reverse the above created list\n",
    "print(list5[::-1])\n",
    "#Sort the above created list\n",
    "\n",
    "print(list5.sort( reverse = True))\n"
   ]
  },
  {
   "cell_type": "code",
   "execution_count": 21,
   "id": "f20c919c-5866-4bd8-8131-6c621900404d",
   "metadata": {},
   "outputs": [
    {
     "name": "stdout",
     "output_type": "stream",
     "text": [
      "3 Idiots\n"
     ]
    }
   ],
   "source": [
    "#create a list of your top 3 favourite movie titles, and then print the second movie title\n",
    "movies = ['Honey, I shrunk the Kids!' , '3 Idiots', 'Gurren Lagann ']\n",
    "print(movies[1])"
   ]
  },
  {
   "cell_type": "code",
   "execution_count": 24,
   "id": "f14c58c3-65aa-4547-a69e-86f944860a52",
   "metadata": {},
   "outputs": [
    {
     "name": "stdout",
     "output_type": "stream",
     "text": [
      "['pigeons', 'Lion', 'Dogs', 'Cats', 'horse', 'Tortoise']\n"
     ]
    }
   ],
   "source": [
    "#Create a list of your favorite animals, then add a new animal to the list and print the updated list.\n",
    "animals = ['pigeons' , 'Lion' , 'Dogs' , 'Cats' , 'horse']\n",
    "animals.append(0)\n",
    "animals[5] = \"Tortoise\"\n",
    "print(animals)"
   ]
  },
  {
   "cell_type": "code",
   "execution_count": 25,
   "id": "5ac21086-9a00-483f-a722-5c216e37259a",
   "metadata": {},
   "outputs": [
    {
     "name": "stdout",
     "output_type": "stream",
     "text": [
      "Tokyo\n"
     ]
    }
   ],
   "source": [
    "#Create a list of your favorite cities, then use the index() method to find the position of a specific city\n",
    "#on the list and print it.\n",
    "\n",
    "cities = ['pune', 'new delhi' , 'ahemedabad', 'Tokyo' , 'London' , 'Kolkata', 'Kyoto', 'Saitama']\n",
    "number = cities.index('Tokyo')\n",
    "print(cities[number])"
   ]
  }
 ],
 "metadata": {
  "kernelspec": {
   "display_name": "Python 3 (ipykernel)",
   "language": "python",
   "name": "python3"
  },
  "language_info": {
   "codemirror_mode": {
    "name": "ipython",
    "version": 3
   },
   "file_extension": ".py",
   "mimetype": "text/x-python",
   "name": "python",
   "nbconvert_exporter": "python",
   "pygments_lexer": "ipython3",
   "version": "3.10.8"
  }
 },
 "nbformat": 4,
 "nbformat_minor": 5
}
